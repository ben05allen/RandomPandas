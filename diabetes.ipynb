{
 "cells": [
  {
   "cell_type": "code",
   "execution_count": null,
   "metadata": {},
   "outputs": [],
   "source": [
    "import polars as pl\n",
    "import altair as alt"
   ]
  },
  {
   "cell_type": "code",
   "execution_count": null,
   "metadata": {},
   "outputs": [],
   "source": [
    "df = pl.read_csv('data/diabetes.csv')\n",
    "(\n",
    "    df\n",
    "        .with_columns(pl.when(pl.col('BMI') < 30).then(pl.lit('Normal')).otherwise(pl.lit('Obese')).alias('Profile'))\n",
    "        .filter((pl.col('BMI') >= 50) & (pl.col('Age') >= 25) & (pl.col('Age') < 30 ))\n",
    "        .head(10)\n",
    "\n",
    ")"
   ]
  },
  {
   "cell_type": "code",
   "execution_count": null,
   "metadata": {},
   "outputs": [],
   "source": [
    "(\n",
    "    alt.Chart(df).mark_point(tooltip=True).encode(\n",
    "        x=\"BMI\",\n",
    "        y=\"BloodPressure\",\n",
    "        color=\"Outcome\",\n",
    "    )\n",
    "    .properties(width=500)\n",
    "    .configure_scale(zero=False)\n",
    ")"
   ]
  },
  {
   "cell_type": "code",
   "execution_count": null,
   "metadata": {},
   "outputs": [],
   "source": []
  }
 ],
 "metadata": {
  "kernelspec": {
   "display_name": ".venv",
   "language": "python",
   "name": "python3"
  },
  "language_info": {
   "codemirror_mode": {
    "name": "ipython",
    "version": 3
   },
   "file_extension": ".py",
   "mimetype": "text/x-python",
   "name": "python",
   "nbconvert_exporter": "python",
   "pygments_lexer": "ipython3",
   "version": "3.12.5"
  }
 },
 "nbformat": 4,
 "nbformat_minor": 2
}
