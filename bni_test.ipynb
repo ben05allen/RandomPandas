{
 "cells": [
  {
   "cell_type": "code",
   "execution_count": null,
   "metadata": {},
   "outputs": [],
   "source": [
    "import pandas as pd\n",
    "import xml.etree.ElementTree as ET\n",
    "from itertools import dropwhile, takewhile\n",
    "from collections import defaultdict"
   ]
  },
  {
   "cell_type": "code",
   "execution_count": null,
   "metadata": {},
   "outputs": [],
   "source": [
    "tree = ET.parse('data/palms.xml')\n",
    "root = tree.getroot()"
   ]
  },
  {
   "cell_type": "code",
   "execution_count": null,
   "metadata": {},
   "outputs": [],
   "source": [
    "xml_data = []\n",
    "for l1 in root:\n",
    "    if l1.tag.endswith('Worksheet'):\n",
    "        for l2 in l1:\n",
    "            if l2.tag.endswith('Table'):\n",
    "                for l3 in l2:\n",
    "                    if l3.tag.endswith('Row'):\n",
    "                        row = \"\"\n",
    "                        for l4 in l3:\n",
    "                            if l4.tag.endswith('Cell'):\n",
    "                                for l5 in l4:\n",
    "                                    if l5.tag.endswith('Data'):\n",
    "                                        elem = str(l5.text)\n",
    "                                        row += elem + \"|,|\"\n",
    "                        xml_data.append(row)"
   ]
  },
  {
   "cell_type": "code",
   "execution_count": null,
   "metadata": {},
   "outputs": [],
   "source": [
    "meta_rows = list(takewhile(lambda x: not str(x).startswith('First Name'), xml_data))\n",
    "\n",
    "meta_rows"
   ]
  },
  {
   "cell_type": "code",
   "execution_count": null,
   "metadata": {},
   "outputs": [],
   "source": [
    "for k,v in zip(str(xml_data[1]).split('|,|'), str(xml_data[2]).split('|,|')):\n",
    "    print(f'{k}: {v}')"
   ]
  },
  {
   "cell_type": "code",
   "execution_count": null,
   "metadata": {},
   "outputs": [],
   "source": [
    "filtered_rows = dropwhile(lambda x: not str(x).startswith('First Name'), xml_data)\n",
    "df_data = defaultdict(list)\n",
    "headers = str(next(filtered_rows)).split('|,|')\n",
    "for row in filtered_rows:\n",
    "    for key, value in zip(headers, str(row).split('|,|')):\n",
    "        df_data[key].append(value)\n",
    "\n",
    "pd.DataFrame(df_data)"
   ]
  }
 ],
 "metadata": {
  "kernelspec": {
   "display_name": ".venv",
   "language": "python",
   "name": "python3"
  },
  "language_info": {
   "codemirror_mode": {
    "name": "ipython",
    "version": 3
   },
   "file_extension": ".py",
   "mimetype": "text/x-python",
   "name": "python",
   "nbconvert_exporter": "python",
   "pygments_lexer": "ipython3",
   "version": "3.10.12"
  }
 },
 "nbformat": 4,
 "nbformat_minor": 2
}
