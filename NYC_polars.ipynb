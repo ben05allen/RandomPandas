{
 "cells": [
  {
   "cell_type": "code",
   "execution_count": 1,
   "metadata": {},
   "outputs": [],
   "source": [
    "import polars as pl"
   ]
  },
  {
   "cell_type": "code",
   "execution_count": 2,
   "metadata": {},
   "outputs": [],
   "source": [
    "df = pl.scan_parquet('data/nyc_parking_violations_2022.parquet',)"
   ]
  },
  {
   "cell_type": "code",
   "execution_count": 7,
   "metadata": {},
   "outputs": [
    {
     "data": {
      "text/html": [
       "<div><style>\n",
       ".dataframe > thead > tr > th,\n",
       ".dataframe > tbody > tr > td {\n",
       "  text-align: right;\n",
       "  white-space: pre-wrap;\n",
       "}\n",
       "</style>\n",
       "<small>shape: (10, 5)</small><table border=\"1\" class=\"dataframe\"><thead><tr><th>Registration State</th><th>Violation Description</th><th>Vehicle Body Type</th><th>Issue Date</th><th>Summons Number</th></tr><tr><td>str</td><td>str</td><td>str</td><td>str</td><td>i64</td></tr></thead><tbody><tr><td>&quot;NY&quot;</td><td>&quot;BUS LANE VIOLA…</td><td>&quot;4DSD&quot;</td><td>&quot;06/12/2021&quot;</td><td>4017749513</td></tr><tr><td>&quot;NJ&quot;</td><td>&quot;BUS LANE VIOLA…</td><td>&quot;UT&quot;</td><td>&quot;06/12/2021&quot;</td><td>4017749525</td></tr><tr><td>&quot;NY&quot;</td><td>&quot;BUS LANE VIOLA…</td><td>&quot;4DSD&quot;</td><td>&quot;06/12/2021&quot;</td><td>4017749732</td></tr><tr><td>&quot;VA&quot;</td><td>&quot;BUS LANE VIOLA…</td><td>&quot;SU&quot;</td><td>&quot;06/12/2021&quot;</td><td>4017749392</td></tr><tr><td>&quot;NY&quot;</td><td>&quot;BUS LANE VIOLA…</td><td>&quot;SUBN&quot;</td><td>&quot;06/12/2021&quot;</td><td>4017749951</td></tr><tr><td>&quot;CT&quot;</td><td>&quot;BUS LANE VIOLA…</td><td>&quot;SD&quot;</td><td>&quot;06/12/2021&quot;</td><td>4017751180</td></tr><tr><td>&quot;NJ&quot;</td><td>&quot;BUS LANE VIOLA…</td><td>&quot;WG&quot;</td><td>&quot;06/12/2021&quot;</td><td>4017751192</td></tr><tr><td>&quot;NY&quot;</td><td>&quot;BUS LANE VIOLA…</td><td>&quot;TAXI&quot;</td><td>&quot;06/12/2021&quot;</td><td>4017751209</td></tr><tr><td>&quot;NJ&quot;</td><td>&quot;BUS LANE VIOLA…</td><td>&quot;PV&quot;</td><td>&quot;06/12/2021&quot;</td><td>4017751210</td></tr><tr><td>&quot;NJ&quot;</td><td>&quot;BUS LANE VIOLA…</td><td>&quot;SD&quot;</td><td>&quot;06/12/2021&quot;</td><td>4017749422</td></tr></tbody></table></div>"
      ],
      "text/plain": [
       "shape: (10, 5)\n",
       "┌────────────────────┬───────────────────────┬───────────────────┬────────────┬────────────────┐\n",
       "│ Registration State ┆ Violation Description ┆ Vehicle Body Type ┆ Issue Date ┆ Summons Number │\n",
       "│ ---                ┆ ---                   ┆ ---               ┆ ---        ┆ ---            │\n",
       "│ str                ┆ str                   ┆ str               ┆ str        ┆ i64            │\n",
       "╞════════════════════╪═══════════════════════╪═══════════════════╪════════════╪════════════════╡\n",
       "│ NY                 ┆ BUS LANE VIOLATION    ┆ 4DSD              ┆ 06/12/2021 ┆ 4017749513     │\n",
       "│ NJ                 ┆ BUS LANE VIOLATION    ┆ UT                ┆ 06/12/2021 ┆ 4017749525     │\n",
       "│ NY                 ┆ BUS LANE VIOLATION    ┆ 4DSD              ┆ 06/12/2021 ┆ 4017749732     │\n",
       "│ VA                 ┆ BUS LANE VIOLATION    ┆ SU                ┆ 06/12/2021 ┆ 4017749392     │\n",
       "│ …                  ┆ …                     ┆ …                 ┆ …          ┆ …              │\n",
       "│ NJ                 ┆ BUS LANE VIOLATION    ┆ WG                ┆ 06/12/2021 ┆ 4017751192     │\n",
       "│ NY                 ┆ BUS LANE VIOLATION    ┆ TAXI              ┆ 06/12/2021 ┆ 4017751209     │\n",
       "│ NJ                 ┆ BUS LANE VIOLATION    ┆ PV                ┆ 06/12/2021 ┆ 4017751210     │\n",
       "│ NJ                 ┆ BUS LANE VIOLATION    ┆ SD                ┆ 06/12/2021 ┆ 4017749422     │\n",
       "└────────────────────┴───────────────────────┴───────────────────┴────────────┴────────────────┘"
      ]
     },
     "execution_count": 7,
     "metadata": {},
     "output_type": "execute_result"
    }
   ],
   "source": [
    "(\n",
    "    df\n",
    "        .select([\"Registration State\", \"Violation Description\", \"Vehicle Body Type\", \"Issue Date\", \"Summons Number\"])\n",
    "        .drop_nulls()\n",
    "        .limit(10)\n",
    "        .collect()\n",
    ")"
   ]
  },
  {
   "cell_type": "code",
   "execution_count": 1,
   "metadata": {},
   "outputs": [
    {
     "data": {
      "text/html": [
       "<div><style>\n",
       ".dataframe > thead > tr > th,\n",
       ".dataframe > tbody > tr > td {\n",
       "  text-align: right;\n",
       "  white-space: pre-wrap;\n",
       "}\n",
       "</style>\n",
       "<small>shape: (67, 3)</small><table border=\"1\" class=\"dataframe\"><thead><tr><th>Registration State</th><th>Violation Description</th><th>count</th></tr><tr><td>str</td><td>str</td><td>u32</td></tr></thead><tbody><tr><td>&quot;99&quot;</td><td>null</td><td>17550</td></tr><tr><td>&quot;AB&quot;</td><td>&quot;14-No Standing…</td><td>22</td></tr><tr><td>&quot;AK&quot;</td><td>&quot;PHTO SCHOOL ZN…</td><td>125</td></tr><tr><td>&quot;AL&quot;</td><td>&quot;PHTO SCHOOL ZN…</td><td>3668</td></tr><tr><td>&quot;AR&quot;</td><td>&quot;PHTO SCHOOL ZN…</td><td>537</td></tr><tr><td>&quot;AZ&quot;</td><td>&quot;PHTO SCHOOL ZN…</td><td>12188</td></tr><tr><td>&quot;BC&quot;</td><td>&quot;14-No Standing…</td><td>13</td></tr><tr><td>&quot;CA&quot;</td><td>&quot;PHTO SCHOOL ZN…</td><td>12994</td></tr><tr><td>&quot;CO&quot;</td><td>&quot;PHTO SCHOOL ZN…</td><td>2354</td></tr><tr><td>&quot;CT&quot;</td><td>&quot;PHTO SCHOOL ZN…</td><td>68645</td></tr><tr><td>&quot;DC&quot;</td><td>&quot;PHTO SCHOOL ZN…</td><td>1218</td></tr><tr><td>&quot;DE&quot;</td><td>&quot;PHTO SCHOOL ZN…</td><td>7437</td></tr><tr><td>&hellip;</td><td>&hellip;</td><td>&hellip;</td></tr><tr><td>&quot;SC&quot;</td><td>&quot;PHTO SCHOOL ZN…</td><td>13249</td></tr><tr><td>&quot;SD&quot;</td><td>&quot;PHTO SCHOOL ZN…</td><td>1643</td></tr><tr><td>&quot;SK&quot;</td><td>&quot;38-Failure to …</td><td>5</td></tr><tr><td>&quot;TN&quot;</td><td>&quot;PHTO SCHOOL ZN…</td><td>6009</td></tr><tr><td>&quot;TX&quot;</td><td>&quot;40-Fire Hydran…</td><td>34850</td></tr><tr><td>&quot;UT&quot;</td><td>&quot;21-No Parking …</td><td>619</td></tr><tr><td>&quot;VA&quot;</td><td>&quot;PHTO SCHOOL ZN…</td><td>29413</td></tr><tr><td>&quot;VT&quot;</td><td>&quot;PHTO SCHOOL ZN…</td><td>3024</td></tr><tr><td>&quot;WA&quot;</td><td>&quot;21-No Parking …</td><td>3732</td></tr><tr><td>&quot;WI&quot;</td><td>&quot;14-No Standing…</td><td>1639</td></tr><tr><td>&quot;WV&quot;</td><td>&quot;PHTO SCHOOL ZN…</td><td>1185</td></tr><tr><td>&quot;WY&quot;</td><td>&quot;21-No Parking …</td><td>138</td></tr></tbody></table></div>"
      ],
      "text/plain": [
       "shape: (67, 3)\n",
       "┌────────────────────┬────────────────────────────────┬───────┐\n",
       "│ Registration State ┆ Violation Description          ┆ count │\n",
       "│ ---                ┆ ---                            ┆ ---   │\n",
       "│ str                ┆ str                            ┆ u32   │\n",
       "╞════════════════════╪════════════════════════════════╪═══════╡\n",
       "│ 99                 ┆ null                           ┆ 17550 │\n",
       "│ AB                 ┆ 14-No Standing                 ┆ 22    │\n",
       "│ AK                 ┆ PHTO SCHOOL ZN SPEED VIOLATION ┆ 125   │\n",
       "│ AL                 ┆ PHTO SCHOOL ZN SPEED VIOLATION ┆ 3668  │\n",
       "│ …                  ┆ …                              ┆ …     │\n",
       "│ WA                 ┆ 21-No Parking (street clean)   ┆ 3732  │\n",
       "│ WI                 ┆ 14-No Standing                 ┆ 1639  │\n",
       "│ WV                 ┆ PHTO SCHOOL ZN SPEED VIOLATION ┆ 1185  │\n",
       "│ WY                 ┆ 21-No Parking (street clean)   ┆ 138   │\n",
       "└────────────────────┴────────────────────────────────┴───────┘"
      ]
     },
     "execution_count": 1,
     "metadata": {},
     "output_type": "execute_result"
    }
   ],
   "source": [
    "(\n",
    "    df\n",
    "        .select([\"Registration State\", \"Violation Description\"])\n",
    "        .group_by(\"Registration State\",\"Violation Description\").count()\n",
    "        .sort(\"count\", descending=True)\n",
    "        .group_by(\"Registration State\").first()\n",
    "        .sort(\"Registration State\")\n",
    "        .collect()\n",
    ")"
   ]
  },
  {
   "cell_type": "code",
   "execution_count": 3,
   "metadata": {},
   "outputs": [
    {
     "name": "stdout",
     "output_type": "stream",
     "text": [
      "406 ms ± 24.4 ms per loop (mean ± std. dev. of 7 runs, 1 loop each)\n"
     ]
    }
   ],
   "source": [
    "%%timeit\n",
    "\n",
    "(\n",
    "    df\n",
    "        .group_by(\"Vehicle Body Type\").agg(Count=pl.count(\"Summons Number\"))\n",
    "        .sort(\"Count\", descending=True)\n",
    "        .collect()\n",
    ")"
   ]
  }
 ],
 "metadata": {
  "kernelspec": {
   "display_name": ".venv",
   "language": "python",
   "name": "python3"
  },
  "language_info": {
   "codemirror_mode": {
    "name": "ipython",
    "version": 3
   },
   "file_extension": ".py",
   "mimetype": "text/x-python",
   "name": "python",
   "nbconvert_exporter": "python",
   "pygments_lexer": "ipython3",
   "version": "3.10.12"
  }
 },
 "nbformat": 4,
 "nbformat_minor": 2
}
